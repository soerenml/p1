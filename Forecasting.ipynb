{
  "nbformat": 4,
  "nbformat_minor": 0,
  "metadata": {
    "colab": {
      "name": "Forecasting.ipynb",
      "provenance": [],
      "collapsed_sections": [],
      "authorship_tag": "ABX9TyOpHzECTnry30W8h3j65xJP",
      "include_colab_link": true
    },
    "kernelspec": {
      "name": "python3",
      "display_name": "Python 3"
    }
  },
  "cells": [
    {
      "cell_type": "markdown",
      "metadata": {
        "id": "view-in-github",
        "colab_type": "text"
      },
      "source": [
        "<a href=\"https://colab.research.google.com/github/soerenml/p1/blob/master/Forecasting.ipynb\" target=\"_parent\"><img src=\"https://colab.research.google.com/assets/colab-badge.svg\" alt=\"Open In Colab\"/></a>"
      ]
    },
    {
      "cell_type": "markdown",
      "metadata": {
        "id": "x3v5ZshpOg2i"
      },
      "source": [
        "# Deep learning for time series\n",
        "\n",
        "Source: `Nielsen (2019), pp. 289-342`\n",
        "\n",
        "**General introduction:**\n",
        "\n",
        "Deep learning models relax some of the statistical assumptions we normallty have to deal with when using classical methods like ARIMA.\n",
        "\n",
        "**Most important:**\n",
        "+ Stationarity is no longer required.\n",
        "+ We do not need to define parameters like seasonality.\n",
        "\n",
        "**Beware:**\n",
        "\n",
        "Even if deep learning models seem to very robust in terms of data requirements, we **should** do some processing like:\n",
        "+ Standardization\n",
        "+ TODO: name other techniques\n",
        "\n",
        "\n"
      ]
    },
    {
      "cell_type": "code",
      "metadata": {
        "colab": {
          "base_uri": "https://localhost:8080/"
        },
        "id": "qxqoXydxOeU8",
        "outputId": "1a35fb44-c78f-40d3-ad6a-7cab51b8e6ed"
      },
      "source": [
        "import os\n",
        "import datetime\n",
        "import IPython\n",
        "import IPython.display\n",
        "import matplotlib as mpl\n",
        "import matplotlib.pyplot as plt\n",
        "import numpy as np\n",
        "import pandas as pd\n",
        "import seaborn as sns\n",
        "import tensorflow as tf\n",
        "from tensorflow.keras.layers.experimental import preprocessing\n",
        "import matplotlib.pyplot as plt\n",
        "\n",
        "print(f\"Tensorflow: {tf.__version__}\")"
      ],
      "execution_count": 1,
      "outputs": [
        {
          "output_type": "stream",
          "text": [
            "Tensorflow: 2.5.0\n"
          ],
          "name": "stdout"
        }
      ]
    },
    {
      "cell_type": "markdown",
      "metadata": {
        "id": "yC9HDFtB6skA"
      },
      "source": [
        "# Load and prepare data"
      ]
    },
    {
      "cell_type": "markdown",
      "metadata": {
        "id": "sd-3EkQ4mV-q"
      },
      "source": [
        "## Download data"
      ]
    },
    {
      "cell_type": "code",
      "metadata": {
        "id": "MBD8OOiF6EP3"
      },
      "source": [
        "%%capture\n",
        "pip install yfinance"
      ],
      "execution_count": 2,
      "outputs": []
    },
    {
      "cell_type": "code",
      "metadata": {
        "id": "vDSFTYWn6CJv",
        "colab": {
          "base_uri": "https://localhost:8080/",
          "height": 447
        },
        "outputId": "4588ec3f-e58c-4b12-9030-cb7ec4da9b8e"
      },
      "source": [
        "def get_stock_data(stocks):\n",
        "  \"\"\"\n",
        "  Function to import stock data.\n",
        "  Args:\n",
        "    stocks: list of ticker symbols to be downloaded.\n",
        "  \"\"\"\n",
        "  tickerData = yf.Ticker(stocks)\n",
        "  td = tickerData.history(\n",
        "      period='1d',\n",
        "      start='2000-1-1',\n",
        "      end='2020-1-25'  \n",
        "  )   \n",
        "  return td\n",
        "\n",
        "df = get_stock_data('SPY')\n",
        "df"
      ],
      "execution_count": 9,
      "outputs": [
        {
          "output_type": "execute_result",
          "data": {
            "text/html": [
              "<div>\n",
              "<style scoped>\n",
              "    .dataframe tbody tr th:only-of-type {\n",
              "        vertical-align: middle;\n",
              "    }\n",
              "\n",
              "    .dataframe tbody tr th {\n",
              "        vertical-align: top;\n",
              "    }\n",
              "\n",
              "    .dataframe thead th {\n",
              "        text-align: right;\n",
              "    }\n",
              "</style>\n",
              "<table border=\"1\" class=\"dataframe\">\n",
              "  <thead>\n",
              "    <tr style=\"text-align: right;\">\n",
              "      <th></th>\n",
              "      <th>Open</th>\n",
              "      <th>High</th>\n",
              "      <th>Low</th>\n",
              "      <th>Close</th>\n",
              "      <th>Volume</th>\n",
              "      <th>Dividends</th>\n",
              "      <th>Stock Splits</th>\n",
              "    </tr>\n",
              "    <tr>\n",
              "      <th>Date</th>\n",
              "      <th></th>\n",
              "      <th></th>\n",
              "      <th></th>\n",
              "      <th></th>\n",
              "      <th></th>\n",
              "      <th></th>\n",
              "      <th></th>\n",
              "    </tr>\n",
              "  </thead>\n",
              "  <tbody>\n",
              "    <tr>\n",
              "      <th>2000-01-03</th>\n",
              "      <td>99.717449</td>\n",
              "      <td>99.717449</td>\n",
              "      <td>96.774691</td>\n",
              "      <td>97.825676</td>\n",
              "      <td>8164300</td>\n",
              "      <td>0.0</td>\n",
              "      <td>0</td>\n",
              "    </tr>\n",
              "    <tr>\n",
              "      <th>2000-01-04</th>\n",
              "      <td>96.543491</td>\n",
              "      <td>96.900826</td>\n",
              "      <td>93.926538</td>\n",
              "      <td>94.000107</td>\n",
              "      <td>8089800</td>\n",
              "      <td>0.0</td>\n",
              "      <td>0</td>\n",
              "    </tr>\n",
              "    <tr>\n",
              "      <th>2000-01-05</th>\n",
              "      <td>94.126219</td>\n",
              "      <td>95.198224</td>\n",
              "      <td>92.318525</td>\n",
              "      <td>94.168259</td>\n",
              "      <td>12177900</td>\n",
              "      <td>0.0</td>\n",
              "      <td>0</td>\n",
              "    </tr>\n",
              "    <tr>\n",
              "      <th>2000-01-06</th>\n",
              "      <td>93.916044</td>\n",
              "      <td>95.177226</td>\n",
              "      <td>92.654861</td>\n",
              "      <td>92.654861</td>\n",
              "      <td>6227200</td>\n",
              "      <td>0.0</td>\n",
              "      <td>0</td>\n",
              "    </tr>\n",
              "    <tr>\n",
              "      <th>2000-01-07</th>\n",
              "      <td>94.378468</td>\n",
              "      <td>98.035896</td>\n",
              "      <td>94.210310</td>\n",
              "      <td>98.035896</td>\n",
              "      <td>8066500</td>\n",
              "      <td>0.0</td>\n",
              "      <td>0</td>\n",
              "    </tr>\n",
              "    <tr>\n",
              "      <th>...</th>\n",
              "      <td>...</td>\n",
              "      <td>...</td>\n",
              "      <td>...</td>\n",
              "      <td>...</td>\n",
              "      <td>...</td>\n",
              "      <td>...</td>\n",
              "      <td>...</td>\n",
              "    </tr>\n",
              "    <tr>\n",
              "      <th>2020-01-17</th>\n",
              "      <td>324.556166</td>\n",
              "      <td>325.025809</td>\n",
              "      <td>323.724466</td>\n",
              "      <td>324.800781</td>\n",
              "      <td>95846000</td>\n",
              "      <td>0.0</td>\n",
              "      <td>0</td>\n",
              "    </tr>\n",
              "    <tr>\n",
              "      <th>2020-01-21</th>\n",
              "      <td>323.773385</td>\n",
              "      <td>325.025817</td>\n",
              "      <td>323.695121</td>\n",
              "      <td>324.164764</td>\n",
              "      <td>77742400</td>\n",
              "      <td>0.0</td>\n",
              "      <td>0</td>\n",
              "    </tr>\n",
              "    <tr>\n",
              "      <th>2020-01-22</th>\n",
              "      <td>325.084468</td>\n",
              "      <td>325.779198</td>\n",
              "      <td>324.037535</td>\n",
              "      <td>324.203857</td>\n",
              "      <td>48914900</td>\n",
              "      <td>0.0</td>\n",
              "      <td>0</td>\n",
              "    </tr>\n",
              "    <tr>\n",
              "      <th>2020-01-23</th>\n",
              "      <td>323.509193</td>\n",
              "      <td>325.016034</td>\n",
              "      <td>322.315467</td>\n",
              "      <td>324.575714</td>\n",
              "      <td>51963000</td>\n",
              "      <td>0.0</td>\n",
              "      <td>0</td>\n",
              "    </tr>\n",
              "    <tr>\n",
              "      <th>2020-01-24</th>\n",
              "      <td>325.280181</td>\n",
              "      <td>325.368239</td>\n",
              "      <td>320.309573</td>\n",
              "      <td>321.689209</td>\n",
              "      <td>87578400</td>\n",
              "      <td>0.0</td>\n",
              "      <td>0</td>\n",
              "    </tr>\n",
              "  </tbody>\n",
              "</table>\n",
              "<p>5047 rows × 7 columns</p>\n",
              "</div>"
            ],
            "text/plain": [
              "                  Open        High  ...  Dividends  Stock Splits\n",
              "Date                                ...                         \n",
              "2000-01-03   99.717449   99.717449  ...        0.0             0\n",
              "2000-01-04   96.543491   96.900826  ...        0.0             0\n",
              "2000-01-05   94.126219   95.198224  ...        0.0             0\n",
              "2000-01-06   93.916044   95.177226  ...        0.0             0\n",
              "2000-01-07   94.378468   98.035896  ...        0.0             0\n",
              "...                ...         ...  ...        ...           ...\n",
              "2020-01-17  324.556166  325.025809  ...        0.0             0\n",
              "2020-01-21  323.773385  325.025817  ...        0.0             0\n",
              "2020-01-22  325.084468  325.779198  ...        0.0             0\n",
              "2020-01-23  323.509193  325.016034  ...        0.0             0\n",
              "2020-01-24  325.280181  325.368239  ...        0.0             0\n",
              "\n",
              "[5047 rows x 7 columns]"
            ]
          },
          "metadata": {
            "tags": []
          },
          "execution_count": 9
        }
      ]
    },
    {
      "cell_type": "markdown",
      "metadata": {
        "id": "ATLF74QrfAvF"
      },
      "source": [
        "## Plot data"
      ]
    },
    {
      "cell_type": "code",
      "metadata": {
        "id": "bstNPkpmfOFZ",
        "colab": {
          "base_uri": "https://localhost:8080/",
          "height": 389
        },
        "outputId": "75ad69bf-5155-4023-efe6-fe9541eaa159"
      },
      "source": [
        "fig = plt.figure(figsize=(18,5))\n",
        "ax = fig.add_axes([0.1,0.2,0.8,0.9])\n",
        "ax.plot(df['Close'])"
      ],
      "execution_count": 23,
      "outputs": [
        {
          "output_type": "execute_result",
          "data": {
            "text/plain": [
              "[<matplotlib.lines.Line2D at 0x7f1933952d50>]"
            ]
          },
          "metadata": {
            "tags": []
          },
          "execution_count": 23
        },
        {
          "output_type": "display_data",
          "data": {
            "image/png": "[encoded data removed]",
            "text/plain": [
              "<Figure size 1296x360 with 1 Axes>"
            ]
          },
          "metadata": {
            "tags": [],
            "needs_background": "light"
          }
        }
      ]
    },
    {
      "cell_type": "code",
      "metadata": {
        "colab": {
          "base_uri": "https://localhost:8080/",
          "height": 234
        },
        "id": "N_wqxVyK-KFx",
        "outputId": "d89dd667-b7db-48b5-eae5-5dee489e23f3"
      },
      "source": [
        "df = df[[\"Open\", \"Volume\"]]\n",
        "df.columns = [\"Open\", \"Volume\"] \n",
        "df.head()"
      ],
      "execution_count": 24,
      "outputs": [
        {
          "output_type": "execute_result",
          "data": {
            "text/html": [
              "<div>\n",
              "<style scoped>\n",
              "    .dataframe tbody tr th:only-of-type {\n",
              "        vertical-align: middle;\n",
              "    }\n",
              "\n",
              "    .dataframe tbody tr th {\n",
              "        vertical-align: top;\n",
              "    }\n",
              "\n",
              "    .dataframe thead th {\n",
              "        text-align: right;\n",
              "    }\n",
              "</style>\n",
              "<table border=\"1\" class=\"dataframe\">\n",
              "  <thead>\n",
              "    <tr style=\"text-align: right;\">\n",
              "      <th></th>\n",
              "      <th>Open</th>\n",
              "      <th>Volume</th>\n",
              "    </tr>\n",
              "    <tr>\n",
              "      <th>Date</th>\n",
              "      <th></th>\n",
              "      <th></th>\n",
              "    </tr>\n",
              "  </thead>\n",
              "  <tbody>\n",
              "    <tr>\n",
              "      <th>2000-01-03</th>\n",
              "      <td>99.717449</td>\n",
              "      <td>8164300</td>\n",
              "    </tr>\n",
              "    <tr>\n",
              "      <th>2000-01-04</th>\n",
              "      <td>96.543491</td>\n",
              "      <td>8089800</td>\n",
              "    </tr>\n",
              "    <tr>\n",
              "      <th>2000-01-05</th>\n",
              "      <td>94.126219</td>\n",
              "      <td>12177900</td>\n",
              "    </tr>\n",
              "    <tr>\n",
              "      <th>2000-01-06</th>\n",
              "      <td>93.916044</td>\n",
              "      <td>6227200</td>\n",
              "    </tr>\n",
              "    <tr>\n",
              "      <th>2000-01-07</th>\n",
              "      <td>94.378468</td>\n",
              "      <td>8066500</td>\n",
              "    </tr>\n",
              "  </tbody>\n",
              "</table>\n",
              "</div>"
            ],
            "text/plain": [
              "                 Open    Volume\n",
              "Date                           \n",
              "2000-01-03  99.717449   8164300\n",
              "2000-01-04  96.543491   8089800\n",
              "2000-01-05  94.126219  12177900\n",
              "2000-01-06  93.916044   6227200\n",
              "2000-01-07  94.378468   8066500"
            ]
          },
          "metadata": {
            "tags": []
          },
          "execution_count": 24
        }
      ]
    },
    {
      "cell_type": "markdown",
      "metadata": {
        "id": "58s9Bf1W4l7v"
      },
      "source": [
        "### Create date sets"
      ]
    },
    {
      "cell_type": "code",
      "metadata": {
        "colab": {
          "base_uri": "https://localhost:8080/"
        },
        "id": "35HlciIV6Jjm",
        "outputId": "e7afe84f-baea-4f03-aa1c-90edf8ad7772"
      },
      "source": [
        "def create_datasets(train_size, test_size):\n",
        "  \"\"\"\n",
        "  Args:\n",
        "    train_size: obs. training set (%)\n",
        "    test_size: obs. validation set (%)\n",
        "  \"\"\"\n",
        "  # Create sets\n",
        "  n = len(df)\n",
        "  train_df = df[0:int(n*train_size)]\n",
        "  val_df = df[int(n*train_size):int(n*test_size)]\n",
        "  test_df = df[int(n*test_size):]\n",
        "  \n",
        "  # Extract metadata\n",
        "  column_indices = {name: i for i, name in enumerate(df.columns)}\n",
        "  num_features = df.shape[1]\n",
        "  \n",
        "  return column_indices, n, train_df, val_df, test_df, num_features\n",
        "\n",
        "column_indices, n, train_df, val_df, test_df, num_features = create_datasets(0.7, 0.9)\n",
        "\n",
        "print(column_indices)"
      ],
      "execution_count": 25,
      "outputs": [
        {
          "output_type": "stream",
          "text": [
            "{'Open': 0, 'Volume': 1}\n"
          ],
          "name": "stdout"
        }
      ]
    },
    {
      "cell_type": "markdown",
      "metadata": {
        "id": "RAbXllOsJIV6"
      },
      "source": [
        "# Create windows\n",
        "\n",
        "[Example](https://www.tensorflow.org/tutorials/structured_data/images/split_window.png)\n",
        "\n"
      ]
    },
    {
      "cell_type": "code",
      "metadata": {
        "id": "Lan_sWmgJHSN"
      },
      "source": [
        "class WindowGenerator():\n",
        "  def __init__(\n",
        "      self,\n",
        "      input_width,\n",
        "      label_width,\n",
        "      shift,\n",
        "      train_df=train_df,\n",
        "      val_df=val_df,\n",
        "      test_df=test_df,\n",
        "      label_columns=None):\n",
        "    \n",
        "    # Store the raw data.\n",
        "    self.train_df = train_df\n",
        "    self.val_df = val_df\n",
        "    self.test_df = test_df\n",
        "\n",
        "    # Work out the label column indices.\n",
        "    self.label_columns = label_columns\n",
        "    # TODO: understand this part.\n",
        "    if label_columns is not None:\n",
        "      self.label_columns_indices = {name: i for i, name in enumerate(label_columns)}\n",
        "    self.column_indices = {name: i for i, name in enumerate(train_df.columns)}\n",
        "\n",
        "    # Store window parameters.\n",
        "    self.input_width = input_width\n",
        "    self.label_width = label_width\n",
        "    self.shift = shift\n",
        "    self.total_window_size = input_width + shift\n",
        "    self.input_slice = slice(0, input_width)\n",
        "\n",
        "    # Return evenly spaced intervals.\n",
        "    self.input_indices = np.arange(self.total_window_size)[self.input_slice]\n",
        "    self.label_start = self.total_window_size - self.label_width\n",
        "    self.labels_slice = slice(self.label_start, None)\n",
        "    self.label_indices = np.arange(self.total_window_size)[self.labels_slice]\n",
        "\n",
        "\n",
        "  def __repr__(self):\n",
        "    return '\\n'.join([\n",
        "        f'Total window size: {self.total_window_size}\\n',\n",
        "        f'Input indices: {self.input_indices}\\n',\n",
        "        f'Label indices: {self.label_indices}\\n',\n",
        "        f'Label column name(s): {self.label_columns}\\n',\n",
        "        f'Column indices: {self.column_indices}'])\n",
        "\n",
        "\n",
        "  def split_window(self, features):\n",
        "    inputs = features[:, self.input_slice, :]\n",
        "    labels = features[:, self.labels_slice, :]\n",
        "    if self.label_columns is not None:\n",
        "      labels = tf.stack(\n",
        "          [labels[:, :, self.column_indices[name]] for name in self.label_columns], axis=-1)\n",
        "\n",
        "    inputs.set_shape([None, self.input_width, None])\n",
        "    labels.set_shape([None, self.label_width, None])\n",
        "    return inputs, labels\n",
        "\n",
        "\n",
        "  def make_dataset(self, data):\n",
        "    #data = np.array(data, dtype=np.float32)\n",
        "    ds = tf.keras.preprocessing.timeseries_dataset_from_array(\n",
        "        data=data,\n",
        "        targets=None,\n",
        "        sequence_length=self.total_window_size,\n",
        "        sequence_stride=1,\n",
        "        shuffle=True,\n",
        "        batch_size=32,)\n",
        "    ds = ds.map(self.split_window) # split_window() is used as a mapping function.\n",
        "    return ds\n",
        "\n",
        "\n",
        "  def plot(self, model=None, plot_col='Open', max_subplots=3):\n",
        "    \"\"\"\n",
        "    Funtion to plot time series.\n",
        "    \"\"\"\n",
        "    inputs, labels = self.example\n",
        "    plt.figure(figsize=(20, 8))\n",
        "    plot_col_index = self.column_indices[plot_col]\n",
        "    max_n = min(max_subplots, len(inputs))\n",
        "    for n in range(max_n):\n",
        "      plt.subplot(3, 1, n+1)\n",
        "      plt.ylabel(f'{plot_col} [normed]')\n",
        "      plt.plot(self.input_indices, inputs[n, :, plot_col_index],\n",
        "             label='Inputs', marker='.', zorder=-10)\n",
        "\n",
        "      if self.label_columns:\n",
        "        label_col_index = self.label_columns_indices.get(plot_col, None)\n",
        "      else:\n",
        "        label_col_index = plot_col_index\n",
        "\n",
        "      if label_col_index is None:\n",
        "        continue\n",
        "\n",
        "      plt.scatter(self.label_indices, labels[n, :, label_col_index],\n",
        "                edgecolors='k', label='Labels', c='#2ca02c', s=64)\n",
        "      if model is not None:\n",
        "        predictions = model(inputs)\n",
        "        plt.scatter(self.label_indices, predictions[n, :, label_col_index],\n",
        "                    marker='X', edgecolors='k', label='Predictions',\n",
        "                    c='#ff7f0e', s=64)\n",
        "\n",
        "      if n == 0:\n",
        "       plt.legend()\n",
        "\n",
        "    plt.xlabel('Time')\n",
        "\n",
        "@property\n",
        "def train(self):\n",
        "  return self.make_dataset(self.train_df)\n",
        "\n",
        "@property\n",
        "def val(self):\n",
        "  return self.make_dataset(self.val_df)\n",
        "\n",
        "@property\n",
        "def test(self):\n",
        "  return self.make_dataset(self.test_df)\n",
        "\n",
        "@property\n",
        "def example(self):\n",
        "  \"\"\"Get and cache an example batch of `inputs, labels` for plotting.\"\"\"\n",
        "  result = getattr(self, '_example', None)\n",
        "  if result is None:\n",
        "    # No example batch was found, so get one from the `.train` dataset\n",
        "    result = next(iter(self.train))\n",
        "    # And cache it for next time\n",
        "    self._example = result\n",
        "  return result\n",
        "\n",
        "WindowGenerator.train = train\n",
        "WindowGenerator.val = val\n",
        "WindowGenerator.test = test\n",
        "WindowGenerator.example = example"
      ],
      "execution_count": 26,
      "outputs": []
    },
    {
      "cell_type": "markdown",
      "metadata": {
        "id": "6B8FPVZ1QFDr"
      },
      "source": [
        "# Train final model"
      ]
    },
    {
      "cell_type": "code",
      "metadata": {
        "colab": {
          "base_uri": "https://localhost:8080/"
        },
        "id": "MxoKuWDeK-qD",
        "outputId": "a028a970-5114-406d-ea07-bb1c9be679c8"
      },
      "source": [
        "wide_window = WindowGenerator(\n",
        "    input_width=7,\n",
        "    label_width=7,\n",
        "    shift=1,\n",
        "    label_columns=['Open'])\n",
        "\n",
        "wide_window"
      ],
      "execution_count": 27,
      "outputs": [
        {
          "output_type": "execute_result",
          "data": {
            "text/plain": [
              "Total window size: 8\n",
              "\n",
              "Input indices: [0 1 2 3 4 5 6]\n",
              "\n",
              "Label indices: [1 2 3 4 5 6 7]\n",
              "\n",
              "Label column name(s): ['Open']\n",
              "\n",
              "Column indices: {'Open': 0, 'Volume': 1}"
            ]
          },
          "metadata": {
            "tags": []
          },
          "execution_count": 27
        }
      ]
    },
    {
      "cell_type": "code",
      "metadata": {
        "colab": {
          "base_uri": "https://localhost:8080/"
        },
        "id": "TfYvXPPinfym",
        "outputId": "d8779937-8193-4d30-97b2-40155ca2bb79"
      },
      "source": [
        "print(wide_window.train.element_spec)\n",
        "\n",
        "w1 = wide_window.train\n",
        "[(features, label)] = w1.take(1)\n",
        "print(features[0,:,:])"
      ],
      "execution_count": 28,
      "outputs": [
        {
          "output_type": "stream",
          "text": [
            "(TensorSpec(shape=(None, 7, 2), dtype=tf.float64, name=None), TensorSpec(shape=(None, 7, 1), dtype=tf.float64, name=None))\n",
            "tf.Tensor(\n",
            "[[8.33698008e+01 3.82924800e+08]\n",
            " [8.33374668e+01 2.33385200e+08]\n",
            " [8.37658499e+01 2.56935300e+08]\n",
            " [8.33536382e+01 2.53769400e+08]\n",
            " [8.64815263e+01 2.10842100e+08]\n",
            " [8.65866143e+01 1.44999900e+08]\n",
            " [8.69664602e+01 1.31283600e+08]], shape=(7, 2), dtype=float64)\n"
          ],
          "name": "stdout"
        }
      ]
    },
    {
      "cell_type": "code",
      "metadata": {
        "colab": {
          "base_uri": "https://localhost:8080/"
        },
        "id": "xcaS5Q7DHoR1",
        "outputId": "3d85929c-f067-4cb8-be40-158170a57880"
      },
      "source": [
        "# Check tensor dimension input data.\n",
        "wide_window.train"
      ],
      "execution_count": 29,
      "outputs": [
        {
          "output_type": "execute_result",
          "data": {
            "text/plain": [
              "<MapDataset shapes: ((None, 7, 2), (None, 7, 1)), types: (tf.float64, tf.float64)>"
            ]
          },
          "metadata": {
            "tags": []
          },
          "execution_count": 29
        }
      ]
    },
    {
      "cell_type": "code",
      "metadata": {
        "colab": {
          "base_uri": "https://localhost:8080/"
        },
        "id": "EzXqhedaQLi8",
        "outputId": "1b90518b-5c5e-426b-be9d-6d607a887929"
      },
      "source": [
        "inputs = tf.keras.Input(shape=(7, 2))\n",
        "ls_1 = tf.keras.layers.LSTM(32, return_sequences=True)(inputs)\n",
        "ls_2 = tf.keras.layers.LSTM(32, return_sequences=True)(ls_1)\n",
        "outputs = tf.keras.layers.Dense(units=1)(ls_2)\n",
        "model = tf.keras.Model(inputs=inputs, outputs=outputs, name=\"lstm\")\n",
        "model.summary()\n",
        "inputs"
      ],
      "execution_count": 33,
      "outputs": [
        {
          "output_type": "stream",
          "text": [
            "Model: \"lstm\"\n",
            "_________________________________________________________________\n",
            "Layer (type)                 Output Shape              Param #   \n",
            "=================================================================\n",
            "input_2 (InputLayer)         [(None, 7, 2)]            0         \n",
            "_________________________________________________________________\n",
            "lstm_2 (LSTM)                (None, 7, 32)             4480      \n",
            "_________________________________________________________________\n",
            "lstm_3 (LSTM)                (None, 7, 32)             8320      \n",
            "_________________________________________________________________\n",
            "dense_1 (Dense)              (None, 7, 1)              33        \n",
            "=================================================================\n",
            "Total params: 12,833\n",
            "Trainable params: 12,833\n",
            "Non-trainable params: 0\n",
            "_________________________________________________________________\n"
          ],
          "name": "stdout"
        },
        {
          "output_type": "execute_result",
          "data": {
            "text/plain": [
              "<KerasTensor: shape=(None, 7, 2) dtype=float32 (created by layer 'input_2')>"
            ]
          },
          "metadata": {
            "tags": []
          },
          "execution_count": 33
        }
      ]
    },
    {
      "cell_type": "code",
      "metadata": {
        "id": "R5nrXxgHlRuO"
      },
      "source": [
        "def compile_and_fit(model, window):\n",
        "\n",
        "  model.compile(\n",
        "      loss=tf.losses.MeanSquaredError(),\n",
        "      optimizer=tf.optimizers.Adam(),\n",
        "      metrics=[tf.metrics.MeanAbsoluteError()])\n",
        "  \n",
        "  history = model.fit(\n",
        "      window.train,\n",
        "      validation_data=window.val,\n",
        "      epochs=10)\n",
        "  \n",
        "  \n",
        "  return history"
      ],
      "execution_count": 34,
      "outputs": []
    },
    {
      "cell_type": "code",
      "metadata": {
        "colab": {
          "base_uri": "https://localhost:8080/"
        },
        "id": "bVRAscVGKwi6",
        "outputId": "4c912510-edeb-4494-aabb-fb343a3c61ea"
      },
      "source": [
        "history = compile_and_fit(model, wide_window)"
      ],
      "execution_count": 35,
      "outputs": [
        {
          "output_type": "stream",
          "text": [
            "Epoch 1/10\n",
            "111/111 [==============================] - 6s 21ms/step - loss: 8481.0381 - mean_absolute_error: 89.7171 - val_loss: 34930.5391 - val_mean_absolute_error: 185.3344\n",
            "Epoch 2/10\n",
            "111/111 [==============================] - 1s 13ms/step - loss: 7277.6436 - mean_absolute_error: 82.7365 - val_loss: 33156.6953 - val_mean_absolute_error: 180.4801\n",
            "Epoch 3/10\n",
            "111/111 [==============================] - 2s 14ms/step - loss: 6570.8765 - mean_absolute_error: 78.3444 - val_loss: 31698.2363 - val_mean_absolute_error: 176.3910\n",
            "Epoch 4/10\n",
            "111/111 [==============================] - 1s 13ms/step - loss: 5969.0249 - mean_absolute_error: 74.3992 - val_loss: 30366.6621 - val_mean_absolute_error: 172.5739\n",
            "Epoch 5/10\n",
            "111/111 [==============================] - 2s 14ms/step - loss: 5431.8076 - mean_absolute_error: 70.6953 - val_loss: 29134.2539 - val_mean_absolute_error: 168.9643\n",
            "Epoch 6/10\n",
            "111/111 [==============================] - 2s 14ms/step - loss: 4944.8076 - mean_absolute_error: 67.1603 - val_loss: 27977.3594 - val_mean_absolute_error: 165.5036\n",
            "Epoch 7/10\n",
            "111/111 [==============================] - 2s 14ms/step - loss: 4501.2510 - mean_absolute_error: 63.7646 - val_loss: 26885.0254 - val_mean_absolute_error: 162.1676\n",
            "Epoch 8/10\n",
            "111/111 [==============================] - 2s 13ms/step - loss: 4095.5320 - mean_absolute_error: 60.4926 - val_loss: 25856.4102 - val_mean_absolute_error: 158.9615\n",
            "Epoch 9/10\n",
            "111/111 [==============================] - 2s 14ms/step - loss: 3724.2900 - mean_absolute_error: 57.3333 - val_loss: 24879.5820 - val_mean_absolute_error: 155.8550\n",
            "Epoch 10/10\n",
            "111/111 [==============================] - 2s 14ms/step - loss: 3384.4604 - mean_absolute_error: 54.2787 - val_loss: 23952.8223 - val_mean_absolute_error: 152.8487\n"
          ],
          "name": "stdout"
        }
      ]
    },
    {
      "cell_type": "code",
      "metadata": {
        "id": "OeH2rAKIVSE3"
      },
      "source": [
        ""
      ],
      "execution_count": null,
      "outputs": []
    }
  ]
}