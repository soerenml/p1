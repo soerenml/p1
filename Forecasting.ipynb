{
  "nbformat": 4,
  "nbformat_minor": 0,
  "metadata": {
    "colab": {
      "name": "Forecasting.ipynb",
      "provenance": [],
      "collapsed_sections": [],
      "authorship_tag": "ABX9TyPxhbB6j8/vIjs6n4PYmghf",
      "include_colab_link": true
    },
    "kernelspec": {
      "name": "python3",
      "display_name": "Python 3"
    }
  },
  "cells": [
    {
      "cell_type": "markdown",
      "metadata": {
        "id": "view-in-github",
        "colab_type": "text"
      },
      "source": [
        "<a href=\"https://colab.research.google.com/github/soerenml/p1/blob/master/Forecasting.ipynb\" target=\"_parent\"><img src=\"https://colab.research.google.com/assets/colab-badge.svg\" alt=\"Open In Colab\"/></a>"
      ]
    },
    {
      "cell_type": "markdown",
      "metadata": {
        "id": "6VlU_Mh1C7U0"
      },
      "source": [
        "# Install packages"
      ]
    },
    {
      "cell_type": "code",
      "metadata": {
        "id": "NVErvtepDqdW"
      },
      "source": [
        "%%capture\n",
        "pip install yfinance"
      ],
      "execution_count": 1,
      "outputs": []
    },
    {
      "cell_type": "code",
      "metadata": {
        "colab": {
          "base_uri": "https://localhost:8080/"
        },
        "id": "qxqoXydxOeU8",
        "outputId": "0214c28a-d35c-4404-8215-3e235e38970b"
      },
      "source": [
        "import os\n",
        "import datetime\n",
        "import IPython\n",
        "import IPython.display\n",
        "import matplotlib as mpl\n",
        "import matplotlib.pyplot as plt\n",
        "import numpy as np\n",
        "import pandas as pd\n",
        "import seaborn as sns\n",
        "import tensorflow as tf\n",
        "from tensorflow.keras.layers.experimental import preprocessing\n",
        "import matplotlib.pyplot as plt\n",
        "import yfinance as yf\n",
        "\n",
        "print(f\"Tensorflow: {tf.__version__}\")"
      ],
      "execution_count": 2,
      "outputs": [
        {
          "output_type": "stream",
          "text": [
            "Tensorflow: 2.5.0\n"
          ],
          "name": "stdout"
        }
      ]
    },
    {
      "cell_type": "markdown",
      "metadata": {
        "id": "yC9HDFtB6skA"
      },
      "source": [
        "# Load and prepare data"
      ]
    },
    {
      "cell_type": "markdown",
      "metadata": {
        "id": "sd-3EkQ4mV-q"
      },
      "source": [
        "## Download data"
      ]
    },
    {
      "cell_type": "code",
      "metadata": {
        "id": "vDSFTYWn6CJv",
        "colab": {
          "base_uri": "https://localhost:8080/",
          "height": 447
        },
        "outputId": "4ceda6b8-dcac-4c46-d3db-d27416644234"
      },
      "source": [
        "def get_stock_data(stocks):\n",
        "  \"\"\"\n",
        "  Function to import stock data.\n",
        "  Args:\n",
        "    stocks: list of ticker symbols.\n",
        "  \"\"\"\n",
        "  tickerData = yf.Ticker(stocks)\n",
        "  td = tickerData.history(\n",
        "      period='1d',\n",
        "      start='2000-1-1',\n",
        "      end='2020-1-25'  \n",
        "  )   \n",
        "  return td\n",
        "\n",
        "df = get_stock_data('SPY')\n",
        "df"
      ],
      "execution_count": 3,
      "outputs": [
        {
          "output_type": "execute_result",
          "data": {
            "text/html": [
              "<div>\n",
              "<style scoped>\n",
              "    .dataframe tbody tr th:only-of-type {\n",
              "        vertical-align: middle;\n",
              "    }\n",
              "\n",
              "    .dataframe tbody tr th {\n",
              "        vertical-align: top;\n",
              "    }\n",
              "\n",
              "    .dataframe thead th {\n",
              "        text-align: right;\n",
              "    }\n",
              "</style>\n",
              "<table border=\"1\" class=\"dataframe\">\n",
              "  <thead>\n",
              "    <tr style=\"text-align: right;\">\n",
              "      <th></th>\n",
              "      <th>Open</th>\n",
              "      <th>High</th>\n",
              "      <th>Low</th>\n",
              "      <th>Close</th>\n",
              "      <th>Volume</th>\n",
              "      <th>Dividends</th>\n",
              "      <th>Stock Splits</th>\n",
              "    </tr>\n",
              "    <tr>\n",
              "      <th>Date</th>\n",
              "      <th></th>\n",
              "      <th></th>\n",
              "      <th></th>\n",
              "      <th></th>\n",
              "      <th></th>\n",
              "      <th></th>\n",
              "      <th></th>\n",
              "    </tr>\n",
              "  </thead>\n",
              "  <tbody>\n",
              "    <tr>\n",
              "      <th>2000-01-03</th>\n",
              "      <td>99.392272</td>\n",
              "      <td>99.392272</td>\n",
              "      <td>96.459110</td>\n",
              "      <td>97.506668</td>\n",
              "      <td>8164300</td>\n",
              "      <td>0.0</td>\n",
              "      <td>0</td>\n",
              "    </tr>\n",
              "    <tr>\n",
              "      <th>2000-01-04</th>\n",
              "      <td>96.228663</td>\n",
              "      <td>96.584833</td>\n",
              "      <td>93.620244</td>\n",
              "      <td>93.693573</td>\n",
              "      <td>8089800</td>\n",
              "      <td>0.0</td>\n",
              "      <td>0</td>\n",
              "    </tr>\n",
              "    <tr>\n",
              "      <th>2000-01-05</th>\n",
              "      <td>93.819273</td>\n",
              "      <td>94.887782</td>\n",
              "      <td>92.017474</td>\n",
              "      <td>93.861176</td>\n",
              "      <td>12177900</td>\n",
              "      <td>0.0</td>\n",
              "      <td>0</td>\n",
              "    </tr>\n",
              "    <tr>\n",
              "      <th>2000-01-06</th>\n",
              "      <td>93.609745</td>\n",
              "      <td>94.866815</td>\n",
              "      <td>92.352676</td>\n",
              "      <td>92.352676</td>\n",
              "      <td>6227200</td>\n",
              "      <td>0.0</td>\n",
              "      <td>0</td>\n",
              "    </tr>\n",
              "    <tr>\n",
              "      <th>2000-01-07</th>\n",
              "      <td>94.070708</td>\n",
              "      <td>97.716209</td>\n",
              "      <td>93.903098</td>\n",
              "      <td>97.716209</td>\n",
              "      <td>8066500</td>\n",
              "      <td>0.0</td>\n",
              "      <td>0</td>\n",
              "    </tr>\n",
              "    <tr>\n",
              "      <th>...</th>\n",
              "      <td>...</td>\n",
              "      <td>...</td>\n",
              "      <td>...</td>\n",
              "      <td>...</td>\n",
              "      <td>...</td>\n",
              "      <td>...</td>\n",
              "      <td>...</td>\n",
              "    </tr>\n",
              "    <tr>\n",
              "      <th>2020-01-17</th>\n",
              "      <td>323.497820</td>\n",
              "      <td>323.965932</td>\n",
              "      <td>322.668833</td>\n",
              "      <td>323.741638</td>\n",
              "      <td>95846000</td>\n",
              "      <td>0.0</td>\n",
              "      <td>0</td>\n",
              "    </tr>\n",
              "    <tr>\n",
              "      <th>2020-01-21</th>\n",
              "      <td>322.717594</td>\n",
              "      <td>323.965941</td>\n",
              "      <td>322.639585</td>\n",
              "      <td>323.107697</td>\n",
              "      <td>77742400</td>\n",
              "      <td>0.0</td>\n",
              "      <td>0</td>\n",
              "    </tr>\n",
              "    <tr>\n",
              "      <th>2020-01-22</th>\n",
              "      <td>324.024406</td>\n",
              "      <td>324.716871</td>\n",
              "      <td>322.980888</td>\n",
              "      <td>323.146667</td>\n",
              "      <td>48914900</td>\n",
              "      <td>0.0</td>\n",
              "      <td>0</td>\n",
              "    </tr>\n",
              "    <tr>\n",
              "      <th>2020-01-23</th>\n",
              "      <td>322.454230</td>\n",
              "      <td>323.956157</td>\n",
              "      <td>321.264397</td>\n",
              "      <td>323.517273</td>\n",
              "      <td>51963000</td>\n",
              "      <td>0.0</td>\n",
              "      <td>0</td>\n",
              "    </tr>\n",
              "    <tr>\n",
              "      <th>2020-01-24</th>\n",
              "      <td>324.219459</td>\n",
              "      <td>324.307230</td>\n",
              "      <td>319.265061</td>\n",
              "      <td>320.640198</td>\n",
              "      <td>87578400</td>\n",
              "      <td>0.0</td>\n",
              "      <td>0</td>\n",
              "    </tr>\n",
              "  </tbody>\n",
              "</table>\n",
              "<p>5047 rows × 7 columns</p>\n",
              "</div>"
            ],
            "text/plain": [
              "                  Open        High  ...  Dividends  Stock Splits\n",
              "Date                                ...                         \n",
              "2000-01-03   99.392272   99.392272  ...        0.0             0\n",
              "2000-01-04   96.228663   96.584833  ...        0.0             0\n",
              "2000-01-05   93.819273   94.887782  ...        0.0             0\n",
              "2000-01-06   93.609745   94.866815  ...        0.0             0\n",
              "2000-01-07   94.070708   97.716209  ...        0.0             0\n",
              "...                ...         ...  ...        ...           ...\n",
              "2020-01-17  323.497820  323.965932  ...        0.0             0\n",
              "2020-01-21  322.717594  323.965941  ...        0.0             0\n",
              "2020-01-22  324.024406  324.716871  ...        0.0             0\n",
              "2020-01-23  322.454230  323.956157  ...        0.0             0\n",
              "2020-01-24  324.219459  324.307230  ...        0.0             0\n",
              "\n",
              "[5047 rows x 7 columns]"
            ]
          },
          "metadata": {
            "tags": []
          },
          "execution_count": 3
        }
      ]
    },
    {
      "cell_type": "markdown",
      "metadata": {
        "id": "GEECM8ThGsMF"
      },
      "source": [
        "## Data preprocessing"
      ]
    },
    {
      "cell_type": "code",
      "metadata": {
        "id": "jy-6tYG-2RL0"
      },
      "source": [
        "# TODO take log check if time is in the right order\n",
        "def etl(list_variables):\n",
        "  \"\"\"\n",
        "  Function to calculate pct. change.\n",
        "  Args:\n",
        "    list_variables = list of variables.\n",
        "  \"\"\"\n",
        "  for i in list_variables:\n",
        "    new_name = i + '_pct'\n",
        "    df[new_name] = df[i].pct_change()\n",
        "\n",
        "etl(['Close', 'Volume'])\n",
        "\n",
        "df['Buy'] = df['Close_pct'].apply(lambda x: 1 if x >= 0 else 0)"
      ],
      "execution_count": 4,
      "outputs": []
    },
    {
      "cell_type": "code",
      "metadata": {
        "colab": {
          "base_uri": "https://localhost:8080/"
        },
        "id": "9WqXUrLz866a",
        "outputId": "1a3e3948-d24a-443a-8eb5-472acc746f4a"
      },
      "source": [
        "df = df[['Close_pct', 'Volume_pct', 'Close']]\n",
        "df.dropna() # drop missing values\n",
        "print(df)"
      ],
      "execution_count": 5,
      "outputs": [
        {
          "output_type": "stream",
          "text": [
            "            Close_pct  Volume_pct       Close\n",
            "Date                                         \n",
            "2000-01-03        NaN         NaN   97.506668\n",
            "2000-01-04  -0.039106   -0.009125   93.693573\n",
            "2000-01-05   0.001789    0.505340   93.861176\n",
            "2000-01-06  -0.016072   -0.488647   92.352676\n",
            "2000-01-07   0.058077    0.295365   97.716209\n",
            "...               ...         ...         ...\n",
            "2020-01-17   0.003113    0.773274  323.741638\n",
            "2020-01-21  -0.001958   -0.188882  323.107697\n",
            "2020-01-22   0.000121   -0.370808  323.146667\n",
            "2020-01-23   0.001147    0.062314  323.517273\n",
            "2020-01-24  -0.008893    0.685399  320.640198\n",
            "\n",
            "[5047 rows x 3 columns]\n"
          ],
          "name": "stdout"
        }
      ]
    },
    {
      "cell_type": "markdown",
      "metadata": {
        "id": "ATLF74QrfAvF"
      },
      "source": [
        "## Plot data"
      ]
    },
    {
      "cell_type": "code",
      "metadata": {
        "id": "bstNPkpmfOFZ",
        "colab": {
          "base_uri": "https://localhost:8080/",
          "height": 916
        },
        "outputId": "43781cab-ff5e-48e8-d8ad-f2b65e55cae4"
      },
      "source": [
        "fig = plt.figure(figsize=(18,4))\n",
        "ax = fig.add_axes([0.1,0.2,0.8,0.9])\n",
        "ax.plot(df['Close'])\n",
        "ax.set_title('Close')\n",
        "\n",
        "ax = fig.add_axes([0.1,-0.8,0.8,0.9])\n",
        "ax.plot(df['Close_pct'])\n",
        "ax.set_title('Close_pct')\n",
        "\n",
        "ax = fig.add_axes([0.1,-1.8,0.8,0.9])\n",
        "ax.plot(df['Volume_pct'])\n",
        "ax.set_title('Volume_pct')"
      ],
      "execution_count": 6,
      "outputs": [
        {
          "output_type": "execute_result",
          "data": {
            "text/plain": [
              "Text(0.5, 1.0, 'Volume_pct')"
            ]
          },
          "metadata": {
            "tags": []
          },
          "execution_count": 6
        },
        {
          "output_type": "display_data",
          "data": {
            "image/png": "[encoded data removed]",
            "text/plain": [
              "<Figure size 1296x288 with 3 Axes>"
            ]
          },
          "metadata": {
            "tags": [],
            "needs_background": "light"
          }
        }
      ]
    },
    {
      "cell_type": "markdown",
      "metadata": {
        "id": "58s9Bf1W4l7v"
      },
      "source": [
        "### Create date sets"
      ]
    },
    {
      "cell_type": "code",
      "metadata": {
        "id": "35HlciIV6Jjm"
      },
      "source": [
        "def create_datasets(train_size, test_size):\n",
        "  \"\"\"\n",
        "  Args:\n",
        "    train_size: obs. training set (%)\n",
        "    test_size: obs. validation set (%)\n",
        "  \"\"\"\n",
        "  # Create sets\n",
        "  n = len(df)\n",
        "  train_df = df[0:int(n*train_size)]\n",
        "  val_df = df[int(n*train_size):int(n*test_size)]\n",
        "  test_df = df[int(n*test_size):]\n",
        "  \n",
        "  return n, train_df, val_df, test_df\n",
        "\n",
        "n, train_df, val_df, test_df = create_datasets(0.7, 0.9)"
      ],
      "execution_count": 8,
      "outputs": []
    },
    {
      "cell_type": "markdown",
      "metadata": {
        "id": "RAbXllOsJIV6"
      },
      "source": [
        "# Create windows\n",
        "\n",
        "[Example](https://www.tensorflow.org/tutorials/structured_data/images/split_window.png)\n",
        "\n"
      ]
    },
    {
      "cell_type": "code",
      "metadata": {
        "id": "Lan_sWmgJHSN"
      },
      "source": [
        "class WindowGenerator():\n",
        "  def __init__(\n",
        "      self,\n",
        "      input_width,\n",
        "      label_width,\n",
        "      shift,\n",
        "      label_columns,\n",
        "      train_df=train_df,\n",
        "      val_df=val_df,\n",
        "      test_df=test_df):\n",
        "    \n",
        "    \n",
        "    self.train_df = train_df\n",
        "    self.val_df = val_df\n",
        "    self.test_df = test_df\n",
        "    self.label_columns = label_columns\n",
        "    \n",
        "    # TODO: understand this part.\n",
        "    self.label_columns_indices = {name: i for i, name in enumerate(label_columns)}\n",
        "    self.column_indices = {name: i for i, name in enumerate(train_df.columns)}\n",
        "\n",
        "    # Store window parameters.\n",
        "    self.input_width = input_width\n",
        "    self.label_width = label_width\n",
        "    self.shift = shift\n",
        "    self.total_window_size = input_width + shift\n",
        "    self.input_slice = slice(0, input_width)\n",
        "\n",
        "    # Return evenly spaced intervals.\n",
        "    self.input_indices = np.arange(self.total_window_size)[self.input_slice]\n",
        "    self.label_start = self.total_window_size - self.label_width\n",
        "    self.labels_slice = slice(self.label_start, None)\n",
        "    self.label_indices = np.arange(self.total_window_size)[self.labels_slice]\n",
        "\n",
        "\n",
        "  def split_window(self, features):\n",
        "    inputs = features[:, self.input_slice, :]\n",
        "    labels = features[:, self.labels_slice, :]\n",
        "    if self.label_columns is not None:\n",
        "      labels = tf.stack(\n",
        "          [labels[:, :, self.column_indices[name]] for name in self.label_columns], axis=-1)\n",
        "\n",
        "    inputs.set_shape([None, self.input_width, None])\n",
        "    labels.set_shape([None, self.label_width, None])\n",
        "    return inputs, labels\n",
        "\n",
        "\n",
        "  def make_dataset(self, data):\n",
        "    ds = tf.keras.preprocessing.timeseries_dataset_from_array(\n",
        "        data=data,\n",
        "        targets=None,\n",
        "        sequence_length=self.total_window_size,\n",
        "        sequence_stride=1,\n",
        "        shuffle=True,\n",
        "        batch_size=32,)\n",
        "    ds = ds.map(self.split_window)\n",
        "    return ds\n",
        "\n",
        "\n",
        "  def __repr__(self):\n",
        "    return '\\n'.join(\n",
        "        [\n",
        "         f'Total window size: {self.total_window_size}\\n',\n",
        "         f'Input indices: {self.input_indices}\\n',\n",
        "         f'Label indices: {self.label_indices}\\n',\n",
        "         f'Label column name(s): {self.label_columns}\\n',\n",
        "         f'Column indices: {self.column_indices}']\n",
        "    )\n",
        "\n",
        "@property\n",
        "def train(self):\n",
        "  return self.make_dataset(self.train_df)\n",
        "\n",
        "@property\n",
        "def val(self):\n",
        "  return self.make_dataset(self.val_df)\n",
        "\n",
        "@property\n",
        "def test(self):\n",
        "  return self.make_dataset(self.test_df)\n",
        "\n",
        "WindowGenerator.train = train\n",
        "WindowGenerator.val = val\n",
        "WindowGenerator.test = test"
      ],
      "execution_count": 25,
      "outputs": []
    },
    {
      "cell_type": "markdown",
      "metadata": {
        "id": "6B8FPVZ1QFDr"
      },
      "source": [
        "# Train final model"
      ]
    },
    {
      "cell_type": "code",
      "metadata": {
        "colab": {
          "base_uri": "https://localhost:8080/"
        },
        "id": "MxoKuWDeK-qD",
        "outputId": "56513648-9329-46d1-fd8c-b84b40a12d0d"
      },
      "source": [
        "wide_window = WindowGenerator(\n",
        "    input_width=5,\n",
        "    label_width=1,\n",
        "    shift=1,\n",
        "    label_columns=['Close_pct'])\n",
        "\n",
        "wide_window"
      ],
      "execution_count": 26,
      "outputs": [
        {
          "output_type": "execute_result",
          "data": {
            "text/plain": [
              "Total window size: 6\n",
              "\n",
              "Input indices: [0 1 2 3 4]\n",
              "\n",
              "Label indices: [5]\n",
              "\n",
              "Label column name(s): ['Close_pct']\n",
              "\n",
              "Column indices: {'Close_pct': 0, 'Volume_pct': 1, 'Close': 2}"
            ]
          },
          "metadata": {
            "tags": []
          },
          "execution_count": 26
        }
      ]
    },
    {
      "cell_type": "code",
      "metadata": {
        "colab": {
          "base_uri": "https://localhost:8080/"
        },
        "id": "TfYvXPPinfym",
        "outputId": "68ed3b20-ac3d-47db-bea3-99933f415d33"
      },
      "source": [
        "print(wide_window.train.element_spec)\n",
        "\n",
        "w1 = wide_window.train\n",
        "[(features, label)] = w1.take(1)\n",
        "print(features[0,:,:])"
      ],
      "execution_count": 27,
      "outputs": [
        {
          "output_type": "stream",
          "text": [
            "(TensorSpec(shape=(None, 5, 3), dtype=tf.float64, name=None), TensorSpec(shape=(None, 1, 1), dtype=tf.float64, name=None))\n",
            "tf.Tensor(\n",
            "[[ 1.14214888e-02 -3.75501604e-01  8.82873917e+01]\n",
            " [ 5.11060961e-03 -2.29533642e-01  8.87385941e+01]\n",
            " [ 2.62424723e-03  4.39298587e-02  8.89714661e+01]\n",
            " [ 1.39053864e-03 -2.06064649e-01  8.90951843e+01]\n",
            " [ 3.92014512e-03  5.45294945e-01  8.94444504e+01]], shape=(5, 3), dtype=float64)\n"
          ],
          "name": "stdout"
        }
      ]
    },
    {
      "cell_type": "code",
      "metadata": {
        "colab": {
          "base_uri": "https://localhost:8080/"
        },
        "id": "xcaS5Q7DHoR1",
        "outputId": "b236f23d-9f38-4940-f71e-9f8604b3f08f"
      },
      "source": [
        "# Check tensor dimension input data.\n",
        "wide_window.train"
      ],
      "execution_count": 28,
      "outputs": [
        {
          "output_type": "execute_result",
          "data": {
            "text/plain": [
              "<MapDataset shapes: ((None, 5, 3), (None, 1, 1)), types: (tf.float64, tf.float64)>"
            ]
          },
          "metadata": {
            "tags": []
          },
          "execution_count": 28
        }
      ]
    },
    {
      "cell_type": "code",
      "metadata": {
        "colab": {
          "base_uri": "https://localhost:8080/"
        },
        "id": "EzXqhedaQLi8",
        "outputId": "3311c02b-2212-4284-88bc-d83e76fb2ffb"
      },
      "source": [
        "inputs = tf.keras.Input(shape=(5, 3))\n",
        "ls_1 = tf.keras.layers.LSTM(3, return_sequences=True)(inputs)\n",
        "outputs = tf.keras.layers.Dense(units=1)(ls_1)\n",
        "model = tf.keras.Model(inputs=inputs, outputs=outputs, name=\"lstm\")\n",
        "model.summary()\n",
        "inputs"
      ],
      "execution_count": 29,
      "outputs": [
        {
          "output_type": "stream",
          "text": [
            "Model: \"lstm\"\n",
            "_________________________________________________________________\n",
            "Layer (type)                 Output Shape              Param #   \n",
            "=================================================================\n",
            "input_3 (InputLayer)         [(None, 5, 3)]            0         \n",
            "_________________________________________________________________\n",
            "lstm_2 (LSTM)                (None, 5, 3)              84        \n",
            "_________________________________________________________________\n",
            "dense_2 (Dense)              (None, 5, 1)              4         \n",
            "=================================================================\n",
            "Total params: 88\n",
            "Trainable params: 88\n",
            "Non-trainable params: 0\n",
            "_________________________________________________________________\n"
          ],
          "name": "stdout"
        },
        {
          "output_type": "execute_result",
          "data": {
            "text/plain": [
              "<KerasTensor: shape=(None, 5, 3) dtype=float32 (created by layer 'input_3')>"
            ]
          },
          "metadata": {
            "tags": []
          },
          "execution_count": 29
        }
      ]
    },
    {
      "cell_type": "code",
      "metadata": {
        "id": "R5nrXxgHlRuO"
      },
      "source": [
        "from tensorflow.keras.losses import BinaryCrossentropy\n",
        "\n",
        "def compile_and_fit(model, window):\n",
        "\n",
        "  model.compile(\n",
        "      loss=tf.losses.MeanSquaredError(),\n",
        "      optimizer=tf.optimizers.Adam(),\n",
        "      metrics=tf.metrics.MeanAbsoluteError())\n",
        "  \n",
        "  history = model.fit(\n",
        "      window.train,\n",
        "      validation_data=window.val,\n",
        "      epochs=10)\n",
        "  \n",
        "  \n",
        "  return history"
      ],
      "execution_count": 30,
      "outputs": []
    },
    {
      "cell_type": "code",
      "metadata": {
        "colab": {
          "base_uri": "https://localhost:8080/"
        },
        "id": "bVRAscVGKwi6",
        "outputId": "2bf37a2d-054e-4ca3-aeee-2049b4d21589"
      },
      "source": [
        "history = compile_and_fit(model, wide_window)"
      ],
      "execution_count": 31,
      "outputs": [
        {
          "output_type": "stream",
          "text": [
            "Epoch 1/10\n",
            "111/111 [==============================] - 3s 9ms/step - loss: nan - mean_absolute_error: nan - val_loss: nan - val_mean_absolute_error: nan\n",
            "Epoch 2/10\n",
            "111/111 [==============================] - 1s 6ms/step - loss: nan - mean_absolute_error: nan - val_loss: nan - val_mean_absolute_error: nan\n",
            "Epoch 3/10\n",
            "111/111 [==============================] - 1s 6ms/step - loss: nan - mean_absolute_error: nan - val_loss: nan - val_mean_absolute_error: nan\n",
            "Epoch 4/10\n",
            "111/111 [==============================] - 1s 6ms/step - loss: nan - mean_absolute_error: nan - val_loss: nan - val_mean_absolute_error: nan\n",
            "Epoch 5/10\n",
            "111/111 [==============================] - 1s 5ms/step - loss: nan - mean_absolute_error: nan - val_loss: nan - val_mean_absolute_error: nan\n",
            "Epoch 6/10\n",
            "111/111 [==============================] - 1s 6ms/step - loss: nan - mean_absolute_error: nan - val_loss: nan - val_mean_absolute_error: nan\n",
            "Epoch 7/10\n",
            "111/111 [==============================] - 1s 6ms/step - loss: nan - mean_absolute_error: nan - val_loss: nan - val_mean_absolute_error: nan\n",
            "Epoch 8/10\n",
            "111/111 [==============================] - 1s 6ms/step - loss: nan - mean_absolute_error: nan - val_loss: nan - val_mean_absolute_error: nan\n",
            "Epoch 9/10\n",
            "111/111 [==============================] - 1s 6ms/step - loss: nan - mean_absolute_error: nan - val_loss: nan - val_mean_absolute_error: nan\n",
            "Epoch 10/10\n",
            "111/111 [==============================] - 1s 6ms/step - loss: nan - mean_absolute_error: nan - val_loss: nan - val_mean_absolute_error: nan\n"
          ],
          "name": "stdout"
        }
      ]
    },
    {
      "cell_type": "code",
      "metadata": {
        "id": "OeH2rAKIVSE3"
      },
      "source": [
        ""
      ],
      "execution_count": null,
      "outputs": []
    }
  ]
}